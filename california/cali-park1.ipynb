{
 "cells": [
  {
   "cell_type": "code",
   "execution_count": 5,
   "metadata": {},
   "outputs": [],
   "source": [
    "import geopandas as gpd\n",
    "import matplotlib.pyplot as plt\n",
    "import folium"
   ]
  },
  {
   "cell_type": "code",
   "execution_count": 2,
   "metadata": {},
   "outputs": [
    {
     "data": {
      "text/html": [
       "<div>\n",
       "<style scoped>\n",
       "    .dataframe tbody tr th:only-of-type {\n",
       "        vertical-align: middle;\n",
       "    }\n",
       "\n",
       "    .dataframe tbody tr th {\n",
       "        vertical-align: top;\n",
       "    }\n",
       "\n",
       "    .dataframe thead th {\n",
       "        text-align: right;\n",
       "    }\n",
       "</style>\n",
       "<table border=\"1\" class=\"dataframe\">\n",
       "  <thead>\n",
       "    <tr style=\"text-align: right;\">\n",
       "      <th></th>\n",
       "      <th>FID</th>\n",
       "      <th>GISACRES</th>\n",
       "      <th>UNITNAME</th>\n",
       "      <th>GISID</th>\n",
       "      <th>SUBTYPE</th>\n",
       "      <th>UNITNBR</th>\n",
       "      <th>Shape_Leng</th>\n",
       "      <th>GlobalID</th>\n",
       "      <th>SHAPE_Le_1</th>\n",
       "      <th>SHAPE_Area</th>\n",
       "      <th>geometry</th>\n",
       "    </tr>\n",
       "  </thead>\n",
       "  <tbody>\n",
       "    <tr>\n",
       "      <th>0</th>\n",
       "      <td>1</td>\n",
       "      <td>839.882093</td>\n",
       "      <td>Wildwood Canyon</td>\n",
       "      <td>GIS0000001</td>\n",
       "      <td>Park Unit or Property</td>\n",
       "      <td>507</td>\n",
       "      <td>13601.233514</td>\n",
       "      <td>{05368B5E-CE12-45D4-B46D-4C30B28729BC}</td>\n",
       "      <td>13601.233514</td>\n",
       "      <td>4.960731e+06</td>\n",
       "      <td>MULTIPOLYGON (((-13024525.751 4031290.583, -13...</td>\n",
       "    </tr>\n",
       "    <tr>\n",
       "      <th>1</th>\n",
       "      <td>2</td>\n",
       "      <td>4698.010911</td>\n",
       "      <td>Andrew Molera SP</td>\n",
       "      <td>GIS0000002</td>\n",
       "      <td>Park Unit or Property</td>\n",
       "      <td>491</td>\n",
       "      <td>28455.626773</td>\n",
       "      <td>{E0AF4B2B-4CC9-491A-A4EB-6E42DBB998B0}</td>\n",
       "      <td>28455.626773</td>\n",
       "      <td>2.931695e+07</td>\n",
       "      <td>MULTIPOLYGON (((-13559144.732 4339982.112, -13...</td>\n",
       "    </tr>\n",
       "    <tr>\n",
       "      <th>2</th>\n",
       "      <td>3</td>\n",
       "      <td>754.300529</td>\n",
       "      <td>Angel Island SP</td>\n",
       "      <td>GIS0000003</td>\n",
       "      <td>Park Unit or Property</td>\n",
       "      <td>231</td>\n",
       "      <td>10835.314614</td>\n",
       "      <td>{C2715033-5532-4E61-B089-DE1E6B1E4579}</td>\n",
       "      <td>10835.314614</td>\n",
       "      <td>4.905591e+06</td>\n",
       "      <td>POLYGON ((-13628825.536 4561374.789, -13628824...</td>\n",
       "    </tr>\n",
       "    <tr>\n",
       "      <th>3</th>\n",
       "      <td>4</td>\n",
       "      <td>1800.989849</td>\n",
       "      <td>Antelope Valley California Poppy Preserve (SNR)</td>\n",
       "      <td>GIS0000005</td>\n",
       "      <td>Park Unit or Property</td>\n",
       "      <td>560</td>\n",
       "      <td>20859.426681</td>\n",
       "      <td>{FD929984-F205-42A5-9D19-4DED9516A6C3}</td>\n",
       "      <td>20859.426681</td>\n",
       "      <td>1.081845e+07</td>\n",
       "      <td>MULTIPOLYGON (((-13177802.195 4129583.393, -13...</td>\n",
       "    </tr>\n",
       "    <tr>\n",
       "      <th>4</th>\n",
       "      <td>5</td>\n",
       "      <td>410.603460</td>\n",
       "      <td>Antelope Valley Indian Museum (SHP)</td>\n",
       "      <td>GIS0000006</td>\n",
       "      <td>Park Unit or Property</td>\n",
       "      <td>579</td>\n",
       "      <td>7931.302795</td>\n",
       "      <td>{2A252009-4AC5-4A4E-B002-A598BF74A0D0}</td>\n",
       "      <td>7931.302795</td>\n",
       "      <td>2.461476e+06</td>\n",
       "      <td>POLYGON ((-13118467.913 4116852.371, -13118465...</td>\n",
       "    </tr>\n",
       "  </tbody>\n",
       "</table>\n",
       "</div>"
      ],
      "text/plain": [
       "   FID     GISACRES                                         UNITNAME  \\\n",
       "0    1   839.882093                                  Wildwood Canyon   \n",
       "1    2  4698.010911                                 Andrew Molera SP   \n",
       "2    3   754.300529                                  Angel Island SP   \n",
       "3    4  1800.989849  Antelope Valley California Poppy Preserve (SNR)   \n",
       "4    5   410.603460              Antelope Valley Indian Museum (SHP)   \n",
       "\n",
       "        GISID                SUBTYPE UNITNBR    Shape_Leng  \\\n",
       "0  GIS0000001  Park Unit or Property     507  13601.233514   \n",
       "1  GIS0000002  Park Unit or Property     491  28455.626773   \n",
       "2  GIS0000003  Park Unit or Property     231  10835.314614   \n",
       "3  GIS0000005  Park Unit or Property     560  20859.426681   \n",
       "4  GIS0000006  Park Unit or Property     579   7931.302795   \n",
       "\n",
       "                                 GlobalID    SHAPE_Le_1    SHAPE_Area  \\\n",
       "0  {05368B5E-CE12-45D4-B46D-4C30B28729BC}  13601.233514  4.960731e+06   \n",
       "1  {E0AF4B2B-4CC9-491A-A4EB-6E42DBB998B0}  28455.626773  2.931695e+07   \n",
       "2  {C2715033-5532-4E61-B089-DE1E6B1E4579}  10835.314614  4.905591e+06   \n",
       "3  {FD929984-F205-42A5-9D19-4DED9516A6C3}  20859.426681  1.081845e+07   \n",
       "4  {2A252009-4AC5-4A4E-B002-A598BF74A0D0}   7931.302795  2.461476e+06   \n",
       "\n",
       "                                            geometry  \n",
       "0  MULTIPOLYGON (((-13024525.751 4031290.583, -13...  \n",
       "1  MULTIPOLYGON (((-13559144.732 4339982.112, -13...  \n",
       "2  POLYGON ((-13628825.536 4561374.789, -13628824...  \n",
       "3  MULTIPOLYGON (((-13177802.195 4129583.393, -13...  \n",
       "4  POLYGON ((-13118467.913 4116852.371, -13118465...  "
      ]
     },
     "execution_count": 2,
     "metadata": {},
     "output_type": "execute_result"
    }
   ],
   "source": [
    "# File path\n",
    "parks_fp = r\"data/ParkBoundaries.shp\"\n",
    "\n",
    "# Read the data\n",
    "parks = gpd.read_file(parks_fp)\n",
    "\n",
    "#Check input data\n",
    "parks.head()"
   ]
  },
  {
   "cell_type": "code",
   "execution_count": 4,
   "metadata": {},
   "outputs": [
    {
     "data": {
      "text/plain": [
       "<AxesSubplot:>"
      ]
     },
     "execution_count": 4,
     "metadata": {},
     "output_type": "execute_result"
    },
    {
     "data": {
      "image/png": "[encoded data removed]",
      "text/plain": [
       "<Figure size 432x288 with 1 Axes>"
      ]
     },
     "metadata": {
      "needs_background": "light"
     },
     "output_type": "display_data"
    }
   ],
   "source": [
    "# 1.Plot data:\n",
    "parks.plot()"
   ]
  },
  {
   "cell_type": "code",
   "execution_count": 7,
   "metadata": {},
   "outputs": [
    {
     "data": {
      "text/html": [
       "<div style=\"width:100%;\"><div style=\"position:relative;width:100%;height:0;padding-bottom:60%;\"><span style=\"color:#565656\">Make this Notebook Trusted to load map: File -> Trust Notebook</span><iframe src=\"about:blank\" style=\"position:absolute;width:100%;height:100%;left:0;top:0;border:none !important;\" data-html=PCFET0NUWVBFIGh0bWw+CjxoZWFkPiAgICAKICAgIDxtZXRhIGh0dHAtZXF1aXY9ImNvbnRlbnQtdHlwZSIgY29udGVudD0idGV4dC9odG1sOyBjaGFyc2V0PVVURi04IiAvPgogICAgCiAgICAgICAgPHNjcmlwdD4KICAgICAgICAgICAgTF9OT19UT1VDSCA9IGZhbHNlOwogICAgICAgICAgICBMX0RJU0FCTEVfM0QgPSBmYWxzZTsKICAgICAgICA8L3NjcmlwdD4KICAgIAogICAgPHNjcmlwdCBzcmM9Imh0dHBzOi8vY2RuLmpzZGVsaXZyLm5ldC9ucG0vbGVhZmxldEAxLjYuMC9kaXN0L2xlYWZsZXQuanMiPjwvc2NyaXB0PgogICAgPHNjcmlwdCBzcmM9Imh0dHBzOi8vY29kZS5qcXVlcnkuY29tL2pxdWVyeS0xLjEyLjQubWluLmpzIj48L3NjcmlwdD4KICAgIDxzY3JpcHQgc3JjPSJodHRwczovL21heGNkbi5ib290c3RyYXBjZG4uY29tL2Jvb3RzdHJhcC8zLjIuMC9qcy9ib290c3RyYXAubWluLmpzIj48L3NjcmlwdD4KICAgIDxzY3JpcHQgc3JjPSJodHRwczovL2NkbmpzLmNsb3VkZmxhcmUuY29tL2FqYXgvbGlicy9MZWFmbGV0LmF3ZXNvbWUtbWFya2Vycy8yLjAuMi9sZWFmbGV0LmF3ZXNvbWUtbWFya2Vycy5qcyI+PC9zY3JpcHQ+CiAgICA8bGluayByZWw9InN0eWxlc2hlZXQiIGhyZWY9Imh0dHBzOi8vY2RuLmpzZGVsaXZyLm5ldC9ucG0vbGVhZmxldEAxLjYuMC9kaXN0L2xlYWZsZXQuY3NzIi8+CiAgICA8bGluayByZWw9InN0eWxlc2hlZXQiIGhyZWY9Imh0dHBzOi8vbWF4Y2RuLmJvb3RzdHJhcGNkbi5jb20vYm9vdHN0cmFwLzMuMi4wL2Nzcy9ib290c3RyYXAubWluLmNzcyIvPgogICAgPGxpbmsgcmVsPSJzdHlsZXNoZWV0IiBocmVmPSJodHRwczovL21heGNkbi5ib290c3RyYXBjZG4uY29tL2Jvb3RzdHJhcC8zLjIuMC9jc3MvYm9vdHN0cmFwLXRoZW1lLm1pbi5jc3MiLz4KICAgIDxsaW5rIHJlbD0ic3R5bGVzaGVldCIgaHJlZj0iaHR0cHM6Ly9tYXhjZG4uYm9vdHN0cmFwY2RuLmNvbS9mb250LWF3ZXNvbWUvNC42LjMvY3NzL2ZvbnQtYXdlc29tZS5taW4uY3NzIi8+CiAgICA8bGluayByZWw9InN0eWxlc2hlZXQiIGhyZWY9Imh0dHBzOi8vY2RuanMuY2xvdWRmbGFyZS5jb20vYWpheC9saWJzL0xlYWZsZXQuYXdlc29tZS1tYXJrZXJzLzIuMC4yL2xlYWZsZXQuYXdlc29tZS1tYXJrZXJzLmNzcyIvPgogICAgPGxpbmsgcmVsPSJzdHlsZXNoZWV0IiBocmVmPSJodHRwczovL3Jhd2Nkbi5naXRoYWNrLmNvbS9weXRob24tdmlzdWFsaXphdGlvbi9mb2xpdW0vbWFzdGVyL2ZvbGl1bS90ZW1wbGF0ZXMvbGVhZmxldC5hd2Vzb21lLnJvdGF0ZS5jc3MiLz4KICAgIDxzdHlsZT5odG1sLCBib2R5IHt3aWR0aDogMTAwJTtoZWlnaHQ6IDEwMCU7bWFyZ2luOiAwO3BhZGRpbmc6IDA7fTwvc3R5bGU+CiAgICA8c3R5bGU+I21hcCB7cG9zaXRpb246YWJzb2x1dGU7dG9wOjA7Ym90dG9tOjA7cmlnaHQ6MDtsZWZ0OjA7fTwvc3R5bGU+CiAgICAKICAgICAgICAgICAgPG1ldGEgbmFtZT0idmlld3BvcnQiIGNvbnRlbnQ9IndpZHRoPWRldmljZS13aWR0aCwKICAgICAgICAgICAgICAgIGluaXRpYWwtc2NhbGU9MS4wLCBtYXhpbXVtLXNjYWxlPTEuMCwgdXNlci1zY2FsYWJsZT1ubyIgLz4KICAgICAgICAgICAgPHN0eWxlPgogICAgICAgICAgICAgICAgI21hcF8yOGRlMjc3YTM5ZTk0YzA2OTZmOTNhZWIyM2M5MTRkNCB7CiAgICAgICAgICAgICAgICAgICAgcG9zaXRpb246IHJlbGF0aXZlOwogICAgICAgICAgICAgICAgICAgIHdpZHRoOiAxMDAuMCU7CiAgICAgICAgICAgICAgICAgICAgaGVpZ2h0OiAxMDAuMCU7CiAgICAgICAgICAgICAgICAgICAgbGVmdDogMC4wJTsKICAgICAgICAgICAgICAgICAgICB0b3A6IDAuMCU7CiAgICAgICAgICAgICAgICB9CiAgICAgICAgICAgIDwvc3R5bGU+CiAgICAgICAgCjwvaGVhZD4KPGJvZHk+ICAgIAogICAgCiAgICAgICAgICAgIDxkaXYgY2xhc3M9ImZvbGl1bS1tYXAiIGlkPSJtYXBfMjhkZTI3N2EzOWU5NGMwNjk2ZjkzYWViMjNjOTE0ZDQiID48L2Rpdj4KICAgICAgICAKPC9ib2R5Pgo8c2NyaXB0PiAgICAKICAgIAogICAgICAgICAgICB2YXIgbWFwXzI4ZGUyNzdhMzllOTRjMDY5NmY5M2FlYjIzYzkxNGQ0ID0gTC5tYXAoCiAgICAgICAgICAgICAgICAibWFwXzI4ZGUyNzdhMzllOTRjMDY5NmY5M2FlYjIzYzkxNGQ0IiwKICAgICAgICAgICAgICAgIHsKICAgICAgICAgICAgICAgICAgICBjZW50ZXI6IFs2MC4yNSwgMjQuOF0sCiAgICAgICAgICAgICAgICAgICAgY3JzOiBMLkNSUy5FUFNHMzg1NywKICAgICAgICAgICAgICAgICAgICB6b29tOiAxMCwKICAgICAgICAgICAgICAgICAgICB6b29tQ29udHJvbDogdHJ1ZSwKICAgICAgICAgICAgICAgICAgICBwcmVmZXJDYW52YXM6IGZhbHNlLAogICAgICAgICAgICAgICAgfQogICAgICAgICAgICApOwogICAgICAgICAgICBMLmNvbnRyb2wuc2NhbGUoKS5hZGRUbyhtYXBfMjhkZTI3N2EzOWU5NGMwNjk2ZjkzYWViMjNjOTE0ZDQpOwoKICAgICAgICAgICAgCgogICAgICAgIAogICAgCiAgICAgICAgICAgIHZhciB0aWxlX2xheWVyXzg1MzQ1MjZjOTM1MTRlZjBiOWU3NzM1YjVhODIyZmY2ID0gTC50aWxlTGF5ZXIoCiAgICAgICAgICAgICAgICAiaHR0cHM6Ly97c30udGlsZS5vcGVuc3RyZWV0bWFwLm9yZy97en0ve3h9L3t5fS5wbmciLAogICAgICAgICAgICAgICAgeyJhdHRyaWJ1dGlvbiI6ICJEYXRhIGJ5IFx1MDAyNmNvcHk7IFx1MDAzY2EgaHJlZj1cImh0dHA6Ly9vcGVuc3RyZWV0bWFwLm9yZ1wiXHUwMDNlT3BlblN0cmVldE1hcFx1MDAzYy9hXHUwMDNlLCB1bmRlciBcdTAwM2NhIGhyZWY9XCJodHRwOi8vd3d3Lm9wZW5zdHJlZXRtYXAub3JnL2NvcHlyaWdodFwiXHUwMDNlT0RiTFx1MDAzYy9hXHUwMDNlLiIsICJkZXRlY3RSZXRpbmEiOiBmYWxzZSwgIm1heE5hdGl2ZVpvb20iOiAxOCwgIm1heFpvb20iOiAxOCwgIm1pblpvb20iOiAwLCAibm9XcmFwIjogZmFsc2UsICJvcGFjaXR5IjogMSwgInN1YmRvbWFpbnMiOiAiYWJjIiwgInRtcyI6IGZhbHNlfQogICAgICAgICAgICApLmFkZFRvKG1hcF8yOGRlMjc3YTM5ZTk0YzA2OTZmOTNhZWIyM2M5MTRkNCk7CiAgICAgICAgCjwvc2NyaXB0Pg== onload=\"this.contentDocument.open();this.contentDocument.write(atob(this.getAttribute('data-html')));this.contentDocument.close();\" allowfullscreen webkitallowfullscreen mozallowfullscreen></iframe></div></div>"
      ],
      "text/plain": [
       "<folium.folium.Map at 0x1237870d0>"
      ]
     },
     "execution_count": 7,
     "metadata": {},
     "output_type": "execute_result"
    }
   ],
   "source": [
    "# Create a Map instance\n",
    "m = folium.Map(location=[60.25, 24.8], zoom_start=10, control_scale=True)\n",
    "\n",
    "m"
   ]
  },
  {
   "cell_type": "code",
   "execution_count": null,
   "metadata": {},
   "outputs": [],
   "source": []
  }
 ],
 "metadata": {
  "kernelspec": {
   "display_name": "Python 3",
   "language": "python",
   "name": "python3"
  },
  "language_info": {
   "codemirror_mode": {
    "name": "ipython",
    "version": 3
   },
   "file_extension": ".py",
   "mimetype": "text/x-python",
   "name": "python",
   "nbconvert_exporter": "python",
   "pygments_lexer": "ipython3",
   "version": "3.8.2"
  }
 },
 "nbformat": 4,
 "nbformat_minor": 4
}
